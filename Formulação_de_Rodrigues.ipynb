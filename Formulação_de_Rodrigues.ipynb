{
 "cells": [
  {
   "cell_type": "markdown",
   "metadata": {},
   "source": [
    "# Formulação de Rodrigues"
   ]
  },
  {
   "cell_type": "markdown",
   "metadata": {},
   "source": [
    "**Variáveis de decisão:**\n",
    "* $x_v,_c$ =\n",
    "  \\begin{cases}\n",
    "  1, \\text{se a cor $j$ será usada}\\\\\n",
    "  0, \\text{caso contrário}\\\\\n",
    "  \\end{cases}\n",
    "\n",
    "* y_{vj} =\n",
    "  \\begin{cases}\n",
    "  1, \\text{se a cor $j$ foi atribuída para o vértice v}\\\\\n",
    "  0, \\text{caso contrário}\\\\\n",
    "  \\end{cases}\n",
    "\n",
    "**Restrições**:\n",
    "\n",
    "* Restrição de atribuição\n",
    "\n",
    "$$\\sum_{j=1}^{n} y_{vj} = 1 \\quad \\forall v \\in \\{0,1,\\ldots,n-1\\}$$\n",
    "\n",
    "* Restrição das arestas\n",
    "\n",
    "$$y_{v,j} + y_{u,j} \\leq x_j \\quad \\forall j \\in \\{1,2,\\ldots, n\\}, \\forall \\{u,v\\} \\in E$$\n",
    "\n",
    "* Restrição de cores\n",
    "\n",
    "$$y_{v,j} \\leq x_j \\forall v \\in \\{0,1,\\ldots, n-1\\}, j \\in \\{0,1,\\ldots,n-1\\}$$\n",
    "\n",
    "* Restrição para usar as primeiras cores\n",
    "\n",
    "$$x_{j} \\geq x_{j+1} \\forall j \\in \\{0,1, \\ldots, n-2\\}$$\n",
    "\n",
    "\n",
    "* Restrição de domínio\n",
    "\n",
    "$$x_j \\in \\{0,1\\} \\quad \\forall j \\in \\{0,1,\\ldots,n-1\\}$$\n",
    "\n",
    "$$y_{v,j} \\in \\{0,1\\} \\quad \\forall v \\in \\{0,1,\\ldots, n-1\\}, j \\in \\{1,2,\\ldots, n\\}$$\n",
    "\n",
    "\n",
    "\n",
    "\n",
    "**Modelagem PLI**\n",
    "\n",
    "\n",
    "\\begin{align*}\n",
    "\\min & \\quad z = \\sum_{i=0}^{n} x_i\\\\\n",
    "\\text{subject to}: &\\\\\n",
    "                   & \\sum_{j=1}^{n} y_{vj} = 1 &\\quad \\forall v \\in V\\\\\n",
    "                   &y_{v,j} + y_{u,j} \\leq x_j &\\quad \\forall j \\in \\{1,2,\\ldots, n\\}, \\forall \\{u,v\\} \\in E\\\\\n",
    "                   & x_{j} \\geq x_{j+1} & \\forall j \\in \\{1, \\ldots, n-2\\}\\\\\n",
    "                   & y_{v,j} \\leq x_j & \\forall v \\in \\{0,1,\\ldots, n-1\\}, j \\in \\{0,1,\\ldots,n-1\\}\\\\\n",
    "                   & x_j \\in \\{0,1\\} & \\quad \\forall v \\in V\\\\\n",
    "                   &y_{v,j} \\in \\{0,1\\} & \\quad \\forall v \\in V, j \\in \\{1,2,\\ldots, n\\}   \n",
    "\\end{align*}   \n",
    "\n"
   ]
  },
  {
   "cell_type": "markdown",
   "metadata": {},
   "source": []
  },
  {
   "cell_type": "markdown",
   "metadata": {},
   "source": []
  }
 ],
 "metadata": {
  "kernelspec": {
   "display_name": "Python 3",
   "language": "python",
   "name": "python3"
  },
  "language_info": {
   "codemirror_mode": {
    "name": "ipython",
    "version": 3
   },
   "file_extension": ".py",
   "mimetype": "text/x-python",
   "name": "python",
   "nbconvert_exporter": "python",
   "pygments_lexer": "ipython3",
   "version": "3.10.12"
  }
 },
 "nbformat": 4,
 "nbformat_minor": 2
}
