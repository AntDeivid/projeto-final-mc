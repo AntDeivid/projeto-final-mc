{
 "cells": [
  {
   "cell_type": "markdown",
   "metadata": {},
   "source": [
    "# Formulação de Rodrigues"
   ]
  },
  {
   "cell_type": "markdown",
   "metadata": {},
   "source": [
    "**Variáveis de decisão:**\n",
    "* $x_v,_c$ =\n",
    "  \\begin{cases}\n",
    "  1, \\text{se o vértice $v$ recebe a cor $c$}\\\\\n",
    "  0, \\text{caso contrário}\\\\\n",
    "  \\end{cases}\n",
    "\n",
    "* $z_c$ =\n",
    "  \\begin{cases}\n",
    "  1, \\text{se a cor $c$ é usada}\\\\\n",
    "  0, \\text{caso contrário}\\\\\n",
    "  \\end{cases}\n",
    "\n",
    "**Restrições**:\n",
    "\n",
    "* Restrição de maximização\n",
    "\n",
    "$$\\Gamma_R = \\max \\sum_{c \\in C} z_c$$\n",
    "\n",
    "* Restrição de garatia de coloração única\n",
    "\n",
    "$$s.a. \\quad \\sum_{c \\in C} x_{v,c} = 1 \\quad \\forall v \\in V$$\n",
    "\n",
    "* Restrição de garantia que a coloração obtida será própria\n",
    "\n",
    "$$x_{v,c} + x_{u,c} \\leq z_c \\quad \\forall \\{u,v\\} \\in E(G), \\forall c \\in C$$\n",
    "\n",
    "* Restrição de garantia que uma cor $k$ só pode ser usada se algum vértice $v$ recebeu a cor\n",
    "$k$.\n",
    "\n",
    "$$x_c \\leq \\sum_{v\\in V} x_{v,c}  \\quad  \\forall c \\in C$$\n",
    "\n",
    "* Restrição de garantia que a propriedade grundy.\n",
    "\n",
    "$$x_{v,c} \\geq 1 - \\sum_{d=1}^{c-1} x_{v,d} -\\sum_{u\\in N(v)} x_{u,c}  \\quad  \\forall v\\in V(G), c\\in C$$\n",
    "\n",
    "* Restrição que etabelece que os vértices isolados devem receber a\n",
    "primeira cor.\n",
    "\n",
    "$$x_{v,1}=1  \t\\quad\t\\forall v\\in V(G) | N(v)=0$$\n",
    "\n",
    "* Restrição que assegura que as primeiras cores serão usadas.\n",
    "\n",
    "$$x_c < x_{c-1}  \t\\quad\t\\forall c\\in {2,...,|C|}$$\n",
    "\n",
    "* \n",
    "\n",
    "$$x_{v,c}\\in {0,1}  \t\\quad\t\\forall v\\in V(G), c\\in C$$\n",
    "\n",
    "*\n",
    "\n",
    "$$x_c \\geq 0  \t\\quad\t\\forall c \\in C$$\n",
    "\n"
   ]
  },
  {
   "cell_type": "code",
   "execution_count": 1,
   "metadata": {},
   "outputs": [
    {
     "name": "stdout",
     "output_type": "stream",
     "text": [
      "Requirement already satisfied: ortools in c:\\users\\jeferson\\anaconda3\\lib\\site-packages (9.10.4067)\n",
      "Requirement already satisfied: absl-py>=2.0.0 in c:\\users\\jeferson\\anaconda3\\lib\\site-packages (from ortools) (2.1.0)\n",
      "Requirement already satisfied: numpy>=1.13.3 in c:\\users\\jeferson\\anaconda3\\lib\\site-packages (from ortools) (1.24.3)\n",
      "Requirement already satisfied: pandas>=2.0.0 in c:\\users\\jeferson\\anaconda3\\lib\\site-packages (from ortools) (2.0.3)\n",
      "Requirement already satisfied: protobuf>=5.26.1 in c:\\users\\jeferson\\anaconda3\\lib\\site-packages (from ortools) (5.28.0)\n",
      "Requirement already satisfied: immutabledict>=3.0.0 in c:\\users\\jeferson\\anaconda3\\lib\\site-packages (from ortools) (4.2.0)\n",
      "Requirement already satisfied: python-dateutil>=2.8.2 in c:\\users\\jeferson\\anaconda3\\lib\\site-packages (from pandas>=2.0.0->ortools) (2.8.2)\n",
      "Requirement already satisfied: pytz>=2020.1 in c:\\users\\jeferson\\anaconda3\\lib\\site-packages (from pandas>=2.0.0->ortools) (2023.3.post1)\n",
      "Requirement already satisfied: tzdata>=2022.1 in c:\\users\\jeferson\\anaconda3\\lib\\site-packages (from pandas>=2.0.0->ortools) (2023.3)\n",
      "Requirement already satisfied: six>=1.5 in c:\\users\\jeferson\\anaconda3\\lib\\site-packages (from python-dateutil>=2.8.2->pandas>=2.0.0->ortools) (1.16.0)\n",
      "Note: you may need to restart the kernel to use updated packages.\n",
      "Requirement already satisfied: networkx in c:\\users\\jeferson\\anaconda3\\lib\\site-packages (3.1)Note: you may need to restart the kernel to use updated packages.\n",
      "\n"
     ]
    }
   ],
   "source": [
    "# Instalação de pacotes necessários para execução do código\n",
    "%pip install ortools\n",
    "%pip install networkx"
   ]
  },
  {
   "cell_type": "code",
   "execution_count": 22,
   "metadata": {},
   "outputs": [],
   "source": [
    "import networkx as nx\n",
    "import matplotlib.pyplot as plt\n",
    "from ortools.linear_solver import pywraplp\n",
    "\n",
    "def coloracao_rodrigues(G):\n",
    "    # Array de 100 cores fornecido\n",
    "    color_array = [\n",
    "        \"gold\", \"red\", \"violet\", \"maroon\", \"limegreen\", \"greenyellow\", \"black\",\n",
    "        \"blue\", \"teal\", \"indigo\", \"crimson\", \"turquoise\", \"coral\", \"pink\",\n",
    "        \"olive\", \"navy\", \"magenta\", \"salmon\", \"fuchsia\", \"chartreuse\", \"skyblue\",\n",
    "        \"beige\", \"sienna\", \"lavender\", \"aquamarine\", \"plum\", \"steelblue\", \"khaki\",\n",
    "        \"moccasin\", \"peru\", \"chocolate\", \"orchid\", \"slateblue\", \"forestgreen\",\n",
    "        \"seagreen\", \"tomato\", \"turquoise\", \"mediumvioletred\", \"cadetblue\", \"darkcyan\",\n",
    "        \"palevioletred\", \"dodgerblue\", \"lightseagreen\", \"lightsalmon\", \"darkslategray\",\n",
    "        \"darkmagenta\", \"yellowgreen\", \"mediumpurple\", \"lightcoral\", \"springgreen\",\n",
    "        \"darkorchid\", \"powderblue\", \"rosybrown\", \"darkgoldenrod\", \"palegreen\", \"hotpink\",\n",
    "        \"palegoldenrod\", \"mistyrose\", \"lightpink\", \"lime\", \"midnightblue\", \"darkseagreen\",\n",
    "        \"indianred\", \"lightgreen\", \"darkolivegreen\", \"sandybrown\", \"mediumslateblue\",\n",
    "        \"lightsteelblue\", \"firebrick\", \"oceanblue\", \"lightcyan\", \"thistle\", \"lawngreen\",\n",
    "        \"royalblue\", \"seashell\", \"darkkhaki\", \"lightskyblue\", \"navajowhite\", \"lavenderblush\",\n",
    "        \"cornflowerblue\", \"goldenrod\", \"darkblue\", \"darkturquoise\", \"mediumspringgreen\",\n",
    "        \"wheat\", \"papayawhip\", \"lightgoldenrodyellow\", \"peru\", \"bisque\", \"peachpuff\",\n",
    "        \"lemonchiffon\", \"lightgray\", \"mediumorchid\", \"darkred\", \"burlywood\", \"slategray\",\n",
    "        \"mediumseagreen\", \"antiquewhite\", \"honeydew\", \"mintcream\"\n",
    "    ]\n",
    "\n",
    "    vertices = list(G.nodes())\n",
    "    n = len(vertices)\n",
    "\n",
    "    # Verificar se o grafo foi corretamente inicializado\n",
    "    if n == 0:\n",
    "        raise ValueError(\"O grafo não foi inicializado corretamente.\")\n",
    "\n",
    "    # Inicializando o solver\n",
    "    solver = pywraplp.Solver.CreateSolver('SCIP')\n",
    "\n",
    "    # Verificar se o solver foi corretamente inicializado\n",
    "    if not solver:\n",
    "        raise ValueError(\"O solver não foi inicializado corretamente.\")\n",
    "\n",
    "    # Definir o tempo máximo de execução para o solver (30 minutos)\n",
    "    solver.SetTimeLimit(1800 * 1000)  # 1800 segundos em milissegundos\n",
    "\n",
    "    # Variáveis de decisão x[v, c]: 1 se o vértice v recebe a cor c, 0 caso contrário\n",
    "    x = {}\n",
    "    num_colors = len(color_array)  # Número de cores é o tamanho do array de cores fornecido\n",
    "    for v in vertices:\n",
    "        for c in range(1, num_colors + 1):\n",
    "            x[v, c] = solver.BoolVar(f'x[{v},{c}]')\n",
    "\n",
    "    # Variáveis z_c: 1 se a cor c é usada, 0 caso contrário\n",
    "    z = {}\n",
    "    for c in range(1, num_colors + 1):\n",
    "        z[c] = solver.BoolVar(f'z[{c}]')\n",
    "\n",
    "    # Função objetivo: minimizar o número de cores usadas\n",
    "    solver.Maximize(solver.Sum(z[c] for c in range(1, num_colors + 1)))\n",
    "\n",
    "    # 1. Restrição de coloração única: cada vértice recebe exatamente uma cor\n",
    "    for v in vertices:\n",
    "        solver.Add(solver.Sum(x[v, c] for c in range(1, num_colors + 1)) == 1)\n",
    "\n",
    "    # 2. Restrição de coloração própria: vértices adjacentes não podem ter a mesma cor\n",
    "    for v in vertices:\n",
    "        for u in G.neighbors(v):  # Para cada vizinho u de v\n",
    "            if v < u:  # Evitar duplicação de restrições\n",
    "                for c in range(1, num_colors + 1):\n",
    "                    solver.Add(x[v, c] + x[u, c] <= z[c])\n",
    "\n",
    "    # 3. Uma cor só pode ser usada se for atribuída a pelo menos um vértice\n",
    "    for c in range(1, num_colors + 1):\n",
    "        solver.Add(z[c] <= solver.Sum(x[v, c] for v in vertices))\n",
    "\n",
    "    # 4. Propriedade de Grundy\n",
    "    for v in vertices:\n",
    "        for c in range(2, num_colors + 1):\n",
    "            solver.Add(x[v, c] >= 1 - solver.Sum(x[v, d] for d in range(1, c)) - solver.Sum(x[u, c] for u in G.neighbors(v)))\n",
    "\n",
    "    # 5. As cores devem ser usadas em ordem\n",
    "    for c in range(2, num_colors + 1):\n",
    "        solver.Add(z[c] <= z[c - 1])\n",
    "\n",
    "    # 6. Vértices isolados devem receber a primeira cor\n",
    "    for v in vertices:\n",
    "        if len(list(G.neighbors(v))) == 0:\n",
    "            solver.Add(x[v, 1] == 1)\n",
    "\n",
    "    # Resolver o problema\n",
    "    print(\"Resolvendo o problema...\")\n",
    "    status = solver.Solve()\n",
    "\n",
    "    # Verificar o status da solução\n",
    "    color_map = []\n",
    "\n",
    "    if status == pywraplp.Solver.OPTIMAL:\n",
    "        print('Solution:')\n",
    "        print('Objective value =', solver.Objective().Value())\n",
    "\n",
    "        for v in vertices:\n",
    "            for c in range(1, num_colors + 1):\n",
    "                if x[v, c].solution_value() == 1:\n",
    "                    color_map.append(color_array[c-1])  # Mapeia o índice da cor para o color_map\n",
    "\n",
    "\n",
    "    elif status == pywraplp.Solver.FEASIBLE:\n",
    "        print('A feasible solution was found within the time limit.')\n",
    "        print('Objective value =', solver.Objective().Value())\n",
    "\n",
    "        for v in vertices:\n",
    "            for c in range(1, num_colors + 1):\n",
    "                if x[v, c].solution_value() == 1:\n",
    "                    color_map.append(color_array[c-1])  # Mapeia o índice da cor para o color_map\n",
    "\n",
    "\n",
    "    else:\n",
    "        print('The problem does not have an optimal solution within the time limit.')\n",
    "\n",
    "    print('Problem solved in %f milliseconds' % (solver.WallTime()/1000));\n",
    "    print('Problem solved in %d iterations' % solver.iterations());\n",
    "    print('Problem solved in %d branch-and-bound nodes' % solver.nodes())\n",
    "    \n"
   ]
  },
  {
   "cell_type": "code",
   "execution_count": 7,
   "metadata": {},
   "outputs": [
    {
     "name": "stdout",
     "output_type": "stream",
     "text": [
      "Resolvendo o problema...\n",
      "Solution:\n",
      "Objective value = 6.000000000000118\n",
      "Problem solved in 28.799000 milliseconds\n",
      "Problem solved in 32604 iterations\n",
      "Problem solved in 5 branch-and-bound nodes\n"
     ]
    }
   ],
   "source": [
    "import networkx as nx\n",
    "G = nx.gnp_random_graph(10, 0.5)\n",
    "coloracao_rodrigues(G)\n"
   ]
  },
  {
   "cell_type": "code",
   "execution_count": 9,
   "metadata": {},
   "outputs": [
    {
     "name": "stdout",
     "output_type": "stream",
     "text": [
      "Resolvendo o problema...\n",
      "Solution:\n",
      "Objective value = 7.999999999996472\n",
      "Problem solved in 44.492000 milliseconds\n",
      "Problem solved in 35684 iterations\n",
      "Problem solved in 43 branch-and-bound nodes\n"
     ]
    }
   ],
   "source": [
    "import networkx as nx\n",
    "G = nx.gnp_random_graph(10, 0.8)\n",
    "coloracao_rodrigues(G)\n"
   ]
  },
  {
   "cell_type": "code",
   "execution_count": 11,
   "metadata": {},
   "outputs": [
    {
     "name": "stdout",
     "output_type": "stream",
     "text": [
      "Resolvendo o problema...\n",
      "Solution:\n",
      "Objective value = 8.0\n",
      "Problem solved in 41.122000 milliseconds\n",
      "Problem solved in 60373 iterations\n",
      "Problem solved in 911 branch-and-bound nodes\n"
     ]
    }
   ],
   "source": [
    "import networkx as nx\n",
    "G = nx.gnp_random_graph(13, 0.5)\n",
    "coloracao_rodrigues(G)\n"
   ]
  },
  {
   "cell_type": "code",
   "execution_count": 13,
   "metadata": {},
   "outputs": [
    {
     "name": "stdout",
     "output_type": "stream",
     "text": [
      "Resolvendo o problema...\n",
      "Solution:\n",
      "Objective value = 9.0\n",
      "Problem solved in 413.053000 milliseconds\n",
      "Problem solved in 341277 iterations\n",
      "Problem solved in 5853 branch-and-bound nodes\n"
     ]
    }
   ],
   "source": [
    "import networkx as nx\n",
    "G = nx.gnp_random_graph(13, 0.8)\n",
    "coloracao_rodrigues(G)"
   ]
  },
  {
   "cell_type": "code",
   "execution_count": 19,
   "metadata": {},
   "outputs": [
    {
     "name": "stdout",
     "output_type": "stream",
     "text": [
      "Resolvendo o problema...\n",
      "Solution:\n",
      "Objective value = 9.0\n",
      "Problem solved in 57.521000 milliseconds\n",
      "Problem solved in 204281 iterations\n",
      "Problem solved in 2299 branch-and-bound nodes\n"
     ]
    }
   ],
   "source": [
    "import networkx as nx\n",
    "G = nx.gnp_random_graph(15, 0.5)\n",
    "coloracao_rodrigues(G)"
   ]
  },
  {
   "cell_type": "code",
   "execution_count": 17,
   "metadata": {},
   "outputs": [
    {
     "name": "stdout",
     "output_type": "stream",
     "text": [
      "Resolvendo o problema...\n",
      "Solution:\n",
      "Objective value = 11.0\n",
      "Problem solved in 562.450000 milliseconds\n",
      "Problem solved in 2255192 iterations\n",
      "Problem solved in 61533 branch-and-bound nodes\n"
     ]
    }
   ],
   "source": [
    "import networkx as nx\n",
    "G = nx.gnp_random_graph(15, 0.8)\n",
    "coloracao_rodrigues(G)"
   ]
  },
  {
   "cell_type": "code",
   "execution_count": 21,
   "metadata": {},
   "outputs": [
    {
     "name": "stdout",
     "output_type": "stream",
     "text": [
      "Resolvendo o problema...\n",
      "Solution:\n",
      "Objective value = 9.999999999999995\n",
      "Problem solved in 237.109000 milliseconds\n",
      "Problem solved in 1064644 iterations\n",
      "Problem solved in 9522 branch-and-bound nodes\n"
     ]
    }
   ],
   "source": [
    "import networkx as nx\n",
    "G = nx.gnp_random_graph(18, 0.5)\n",
    "coloracao_rodrigues(G)"
   ]
  },
  {
   "cell_type": "code",
   "execution_count": 23,
   "metadata": {},
   "outputs": [
    {
     "name": "stdout",
     "output_type": "stream",
     "text": [
      "Resolvendo o problema...\n",
      "A feasible solution was found within the time limit.\n",
      "Objective value = 11.0\n",
      "Problem solved in 1799.019000 milliseconds\n",
      "Problem solved in 1612049 iterations\n",
      "Problem solved in 1 branch-and-bound nodes\n"
     ]
    }
   ],
   "source": [
    "import networkx as nx\n",
    "G = nx.gnp_random_graph(18, 0.8)\n",
    "coloracao_rodrigues(G)"
   ]
  }
 ],
 "metadata": {
  "kernelspec": {
   "display_name": "Python 3 (ipykernel)",
   "language": "python",
   "name": "python3"
  },
  "language_info": {
   "codemirror_mode": {
    "name": "ipython",
    "version": 3
   },
   "file_extension": ".py",
   "mimetype": "text/x-python",
   "name": "python",
   "nbconvert_exporter": "python",
   "pygments_lexer": "ipython3",
   "version": "3.11.5"
  }
 },
 "nbformat": 4,
 "nbformat_minor": 2
}
