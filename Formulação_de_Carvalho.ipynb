{
 "cells": [
  {
   "cell_type": "markdown",
   "metadata": {},
   "source": [
    "# Formulação de Carvalho\n",
    "\n",
    "**Variáveis de decisão:**\n",
    "* $x_v,_c$ =\n",
    "  \\begin{cases}\n",
    "  1, \\text{se o vértice $v$ recebe a cor $c$}\\\\\n",
    "  0, \\text{caso contrário}\\\\\n",
    "  \\end{cases}\n",
    "\n",
    "* $z_c$ =\n",
    "  \\begin{cases}\n",
    "  1, \\text{se a cor $c$ é usada}\\\\\n",
    "  0, \\text{caso contrário}\\\\\n",
    "  \\end{cases}\n",
    "\n",
    "**Restrições**:\n",
    "\n",
    "* Restrição de maximização\n",
    "\n",
    "$$\\Gamma_C = \\max \\sum_{c \\in C} z_c$$\n",
    "\n",
    "* Restrição de garatia de coloração única\n",
    "\n",
    "$$s.a. \\quad \\sum_{c \\in C} x_{v,c} = 1 \\quad \\forall v \\in V$$\n",
    "\n",
    "* Restrição de garantia que a coloração obtida será própria\n",
    "\n",
    "$$x_{v,c} + x_{u,c} \\leq z_c \\quad \\forall \\{u,v\\} \\in E(G), \\forall c \\in C$$\n",
    "\n",
    "* Restrição de garantia que uma cor $k$ só pode ser usada se algum vértice $v$ recebeu a cor\n",
    "$k$.\n",
    "\n",
    "$$z_c \\leq \\sum_{v \\in V} x_{v,c} \\quad \\forall c \\in C$$\n",
    "\n",
    "* Restrição que afiança que os vértices isoladoss pode receber qualquer cor.\n",
    "\n",
    "$$x_{v,c} \\leq z_c \\quad \\forall v \\in V(G), \\forall c \\in \\mathcal{C} \\\\$$\n",
    "\n",
    "* Restrição que assegura que as primeiras cores serão usadas.\n",
    "\n",
    "$$z_{c'} \\leq z_c \\quad \\forall c, c' \\in \\mathcal{C} \\text{ se } c < c'$$\n",
    "\n",
    "* Restrição que garante a propriedade de Grundy $O(|V||C|^2)$ . \n",
    "\n",
    "$$x_{v,c'} \\leq \\sum_{u \\in N(v)} x_{u,c} \\quad \\forall v \\in V(G), \\forall c, c' \\in \\mathcal{C} \\text{ se } c < c'$$\n",
    "\n",
    "*\n",
    "\n",
    "$$x_{v,c} \\in \\{0,1\\} \\quad \\forall v \\in V(G), \\forall c \\in \\mathcal{C}$$\n",
    "\n",
    "*\n",
    "\n",
    "$$z_c \\in \\{0,1\\} \\quad \\forall c \\in \\mathcal{C}$$\n",
    "\n",
    "\n"
   ]
  },
  {
   "cell_type": "code",
   "execution_count": 1,
   "metadata": {},
   "outputs": [
    {
     "name": "stdout",
     "output_type": "stream",
     "text": [
      "Requirement already satisfied: ortools in c:\\users\\jeferson\\anaconda3\\lib\\site-packages (9.10.4067)\n",
      "Requirement already satisfied: absl-py>=2.0.0 in c:\\users\\jeferson\\anaconda3\\lib\\site-packages (from ortools) (2.1.0)\n",
      "Requirement already satisfied: numpy>=1.13.3 in c:\\users\\jeferson\\anaconda3\\lib\\site-packages (from ortools) (1.24.3)\n",
      "Requirement already satisfied: pandas>=2.0.0 in c:\\users\\jeferson\\anaconda3\\lib\\site-packages (from ortools) (2.0.3)\n",
      "Requirement already satisfied: protobuf>=5.26.1 in c:\\users\\jeferson\\anaconda3\\lib\\site-packages (from ortools) (5.28.0)\n",
      "Requirement already satisfied: immutabledict>=3.0.0 in c:\\users\\jeferson\\anaconda3\\lib\\site-packages (from ortools) (4.2.0)\n",
      "Requirement already satisfied: python-dateutil>=2.8.2 in c:\\users\\jeferson\\anaconda3\\lib\\site-packages (from pandas>=2.0.0->ortools) (2.8.2)\n",
      "Requirement already satisfied: pytz>=2020.1 in c:\\users\\jeferson\\anaconda3\\lib\\site-packages (from pandas>=2.0.0->ortools) (2023.3.post1)\n",
      "Requirement already satisfied: tzdata>=2022.1 in c:\\users\\jeferson\\anaconda3\\lib\\site-packages (from pandas>=2.0.0->ortools) (2023.3)\n",
      "Requirement already satisfied: six>=1.5 in c:\\users\\jeferson\\anaconda3\\lib\\site-packages (from python-dateutil>=2.8.2->pandas>=2.0.0->ortools) (1.16.0)\n",
      "Note: you may need to restart the kernel to use updated packages.\n",
      "Requirement already satisfied: networkx in c:\\users\\jeferson\\anaconda3\\lib\\site-packages (3.1)\n",
      "Note: you may need to restart the kernel to use updated packages.\n"
     ]
    }
   ],
   "source": [
    "# Instalação de pacotes necessários para execução do código\n",
    "%pip install ortools\n",
    "%pip install networkx"
   ]
  },
  {
   "cell_type": "code",
   "execution_count": 6,
   "metadata": {},
   "outputs": [],
   "source": [
    "import networkx as nx\n",
    "import matplotlib.pyplot as plt\n",
    "from ortools.linear_solver import pywraplp\n",
    "\n",
    "def coloracao_carvalho(G):  \n",
    "    # Array de 100 cores fornecido\n",
    "    color_array = [\n",
    "        \"gold\", \"red\", \"violet\", \"maroon\", \"limegreen\", \"greenyellow\", \"black\",\n",
    "        \"blue\", \"teal\", \"indigo\", \"crimson\", \"turquoise\", \"coral\", \"pink\",\n",
    "        \"olive\", \"navy\", \"magenta\", \"salmon\", \"fuchsia\", \"chartreuse\", \"skyblue\",\n",
    "        \"beige\", \"sienna\", \"lavender\", \"aquamarine\", \"plum\", \"steelblue\", \"khaki\",\n",
    "        \"moccasin\", \"peru\", \"chocolate\", \"orchid\", \"slateblue\", \"forestgreen\",\n",
    "        \"seagreen\", \"tomato\", \"turquoise\", \"mediumvioletred\", \"cadetblue\", \"darkcyan\",\n",
    "        \"palevioletred\", \"dodgerblue\", \"lightseagreen\", \"lightsalmon\", \"darkslategray\",\n",
    "        \"darkmagenta\", \"yellowgreen\", \"mediumpurple\", \"lightcoral\", \"springgreen\",\n",
    "        \"darkorchid\", \"powderblue\", \"rosybrown\", \"darkgoldenrod\", \"palegreen\", \"hotpink\",\n",
    "        \"palegoldenrod\", \"mistyrose\", \"lightpink\", \"lime\", \"midnightblue\", \"darkseagreen\",\n",
    "        \"indianred\", \"lightgreen\", \"darkolivegreen\", \"sandybrown\", \"mediumslateblue\",\n",
    "        \"lightsteelblue\", \"firebrick\", \"oceanblue\", \"lightcyan\", \"thistle\", \"lawngreen\",\n",
    "        \"royalblue\", \"seashell\", \"darkkhaki\", \"lightskyblue\", \"navajowhite\", \"lavenderblush\",\n",
    "        \"cornflowerblue\", \"goldenrod\", \"darkblue\", \"darkturquoise\", \"mediumspringgreen\",\n",
    "        \"wheat\", \"papayawhip\", \"lightgoldenrodyellow\", \"peru\", \"bisque\", \"peachpuff\",\n",
    "        \"lemonchiffon\", \"lightgray\", \"mediumorchid\", \"darkred\", \"burlywood\", \"slategray\",\n",
    "        \"mediumseagreen\", \"antiquewhite\", \"honeydew\", \"mintcream\"\n",
    "    ]\n",
    "\n",
    "    # Verificar se o grafo foi corretamente inicializado\n",
    "    vertices = list(G.nodes())\n",
    "    n = len(vertices)\n",
    "    if n == 0:\n",
    "        raise ValueError(\"O grafo não foi inicializado corretamente.\")\n",
    "\n",
    "    # Inicializando o solver\n",
    "    solver = pywraplp.Solver.CreateSolver('SCIP')\n",
    "\n",
    "    # Verificar se o solver foi corretamente inicializado\n",
    "    if not solver:\n",
    "        raise ValueError(\"O solver não foi inicializado corretamente.\")\n",
    "\n",
    "    # Definir o tempo máximo de execução para o solver (30 minutos)\n",
    "    solver.SetTimeLimit(1800 * 1000)  # 1800 segundos em milissegundos\n",
    "\n",
    "    # Variáveis de decisão\n",
    "    x = [[solver.IntVar(0.0, 1.0, f'x_{v}_{j}') for j in range(n)] for v in range(n)]  # Se o vértice v recebe a cor j\n",
    "    z = [solver.IntVar(0.0, 1.0, f'z_{j}') for j in range(n)]  # Se a cor j é usada\n",
    "\n",
    "    # 1. Maximizar o número de cores usadas\n",
    "    solver.Maximize(solver.Sum(z[j] for j in range(n)))\n",
    "\n",
    "    # Restrições\n",
    "    # (3.2.2) Cada vértice recebe exatamente uma cor\n",
    "    for v in range(n):\n",
    "        solver.Add(solver.Sum(x[v][j] for j in range(n)) == 1)\n",
    "\n",
    "    # (3.2.3) Restrições de coloração própria: vértices adjacentes não podem ter a mesma cor\n",
    "    for (u, v) in G.edges():\n",
    "        for j in range(n):\n",
    "            solver.Add(x[u][j] + x[v][j] <= z[j])\n",
    "\n",
    "    # (3.2.4) Restrições para garantir que uma cor seja usada somente se algum vértice a usar\n",
    "    for j in range(n):\n",
    "        solver.Add(z[j] <= solver.Sum(x[v][j] for v in range(n)))\n",
    "\n",
    "    # (3.2.5) Os vértices isolados podem receber qualquer cor\n",
    "    for v in range(n):\n",
    "        if G.degree(v) == 0:\n",
    "            for j in range(n):\n",
    "                solver.Add(x[v][j] == 1)\n",
    "\n",
    "    # (3.2.6) Assegura que as primeiras cores são usadas\n",
    "    for j in range(n-1):\n",
    "        solver.Add(z[j] >= z[j+1])\n",
    "\n",
    "    # (3.2.7) Restrições para garantir a propriedade Grundy\n",
    "    for v in range(n):\n",
    "        for j in range(1, n):\n",
    "            solver.Add(x[v][j] >= 1 - solver.Sum(x[v][d] for d in range(j)) - solver.Sum(x[u][j] for u in G.neighbors(v)))\n",
    "        \n",
    "    # (3.2.8) Esta retrição define que a variável de decisão x v,c pode assumir apenas dois valores: 0 ou 1 (váriáveis de decisão)\n",
    "    for v in range(n):\n",
    "        for j in range(n):\n",
    "            solver.Add(x[v][j] <= 1)\n",
    "            solver.Add(x[v][j] >= 0)    \n",
    "\n",
    "    # (3.2.9) Esta retrição define que a variável de decisão z c pode assumir apenas dois valores: 0 ou 1 (váriáveis de decisão)  \n",
    "    for j in range(n):\n",
    "        solver.Add(z[j] <= 1)\n",
    "        solver.Add(z[j] >= 0)\n",
    "\n",
    "    # Resolver o problema\n",
    "    print(\"Resolvendo o problema...\")\n",
    "    status = solver.Solve()\n",
    "\n",
    "    # Verificar o status da solução\n",
    "    color_map = []\n",
    "\n",
    "    if status == pywraplp.Solver.OPTIMAL:\n",
    "        print('Solução ótima encontrada:')\n",
    "        print('Valor objetivo =', solver.Objective().Value())\n",
    "\n",
    "        for v in range(n):\n",
    "            for j in range(n):\n",
    "                if x[v][j].solution_value() == 1:\n",
    "                    color_map.append(color_array[j])\n",
    "                   \n",
    "\n",
    "    elif status == pywraplp.Solver.FEASIBLE:\n",
    "        print('Uma solução viável foi encontrada dentro do limite de tempo.')\n",
    "        print('Valor objetivo =', solver.Objective().Value())\n",
    "\n",
    "        for v in range(n):\n",
    "            for j in range(n):\n",
    "                if x[v][j].solution_value() == 1:\n",
    "                    color_map.append(color_array[j])\n",
    "\n",
    "    else:\n",
    "        print('O problema não tem uma solução ótima dentro do limite de tempo.')\n",
    "\n",
    "    print('Problem solved in %f milliseconds' % (solver.WallTime()/1000))\n",
    "    print('Problem solved in %d iterations' % solver.iterations())\n",
    "    print('Problem solved in %d branch-and-bound nodes' % solver.nodes())\n"
   ]
  },
  {
   "cell_type": "code",
   "execution_count": 3,
   "metadata": {},
   "outputs": [],
   "source": [
    "import networkx as nx"
   ]
  },
  {
   "cell_type": "code",
   "execution_count": 3,
   "metadata": {},
   "outputs": [
    {
     "name": "stdout",
     "output_type": "stream",
     "text": [
      "Resolvendo o problema...\n",
      "Solução ótima encontrada:\n",
      "Valor objetivo = 6.0\n",
      "Problem solved in 3.931000 milliseconds\n",
      "Problem solved in 2253 iterations\n",
      "Problem solved in 42 branch-and-bound nodes\n"
     ]
    }
   ],
   "source": [
    "G = nx.gnp_random_graph(10, 0.5)\n",
    "coloracao_carvalho(G)"
   ]
  },
  {
   "cell_type": "code",
   "execution_count": 8,
   "metadata": {},
   "outputs": [
    {
     "name": "stdout",
     "output_type": "stream",
     "text": [
      "Resolvendo o problema...\n",
      "Solução ótima encontrada:\n",
      "Valor objetivo = 8.0\n",
      "Problem solved in 3.320000 milliseconds\n",
      "Problem solved in 4636 iterations\n",
      "Problem solved in 49 branch-and-bound nodes\n"
     ]
    }
   ],
   "source": [
    "G = nx.gnp_random_graph(10, 0.8)\n",
    "coloracao_carvalho(G)"
   ]
  },
  {
   "cell_type": "code",
   "execution_count": 10,
   "metadata": {},
   "outputs": [
    {
     "name": "stdout",
     "output_type": "stream",
     "text": [
      "Resolvendo o problema...\n",
      "Solução ótima encontrada:\n",
      "Valor objetivo = 8.0\n",
      "Problem solved in 33.114000 milliseconds\n",
      "Problem solved in 108265 iterations\n",
      "Problem solved in 3125 branch-and-bound nodes\n"
     ]
    }
   ],
   "source": [
    "G = nx.gnp_random_graph(13, 0.5)\n",
    "coloracao_carvalho(G)"
   ]
  },
  {
   "cell_type": "code",
   "execution_count": 13,
   "metadata": {},
   "outputs": [
    {
     "name": "stdout",
     "output_type": "stream",
     "text": [
      "Resolvendo o problema...\n",
      "Solução ótima encontrada:\n",
      "Valor objetivo = 9.0\n",
      "Problem solved in 106.434000 milliseconds\n",
      "Problem solved in 542351 iterations\n",
      "Problem solved in 15141 branch-and-bound nodes\n"
     ]
    }
   ],
   "source": [
    "G = nx.gnp_random_graph(13, 0.8)\n",
    "coloracao_carvalho(G)"
   ]
  },
  {
   "cell_type": "code",
   "execution_count": 14,
   "metadata": {},
   "outputs": [
    {
     "name": "stdout",
     "output_type": "stream",
     "text": [
      "Resolvendo o problema...\n",
      "Solução ótima encontrada:\n",
      "Valor objetivo = 8.0\n",
      "Problem solved in 39.793000 milliseconds\n",
      "Problem solved in 166693 iterations\n",
      "Problem solved in 4079 branch-and-bound nodes\n"
     ]
    }
   ],
   "source": [
    "G = nx.gnp_random_graph(15, 0.5)\n",
    "coloracao_carvalho(G)"
   ]
  },
  {
   "cell_type": "code",
   "execution_count": 15,
   "metadata": {},
   "outputs": [
    {
     "name": "stdout",
     "output_type": "stream",
     "text": [
      "Resolvendo o problema...\n",
      "Solução ótima encontrada:\n",
      "Valor objetivo = 11.0\n",
      "Problem solved in 260.752000 milliseconds\n",
      "Problem solved in 997367 iterations\n",
      "Problem solved in 28626 branch-and-bound nodes\n"
     ]
    }
   ],
   "source": [
    "G = nx.gnp_random_graph(15, 0.8)\n",
    "coloracao_carvalho(G)"
   ]
  },
  {
   "cell_type": "code",
   "execution_count": 4,
   "metadata": {},
   "outputs": [
    {
     "name": "stdout",
     "output_type": "stream",
     "text": [
      "Resolvendo o problema...\n",
      "Solução ótima encontrada:\n",
      "Valor objetivo = 10.000000000000007\n",
      "Problem solved in 493.033000 milliseconds\n",
      "Problem solved in 2269501 iterations\n",
      "Problem solved in 23081 branch-and-bound nodes\n"
     ]
    }
   ],
   "source": [
    "G = nx.gnp_random_graph(18, 0.5)\n",
    "coloracao_carvalho(G)"
   ]
  },
  {
   "cell_type": "code",
   "execution_count": 7,
   "metadata": {},
   "outputs": [
    {
     "name": "stdout",
     "output_type": "stream",
     "text": [
      "Resolvendo o problema...\n",
      "Uma solução viável foi encontrada dentro do limite de tempo.\n",
      "Valor objetivo = 13.0\n",
      "Problem solved in 1799.307000 milliseconds\n",
      "Problem solved in 7176671 iterations\n",
      "Problem solved in 79763 branch-and-bound nodes\n"
     ]
    }
   ],
   "source": [
    "G = nx.gnp_random_graph(18, 0.8)\n",
    "coloracao_carvalho(G)"
   ]
  },
  {
   "cell_type": "code",
   "execution_count": 8,
   "metadata": {},
   "outputs": [
    {
     "name": "stdout",
     "output_type": "stream",
     "text": [
      "Resolvendo o problema...\n",
      "Uma solução viável foi encontrada dentro do limite de tempo.\n",
      "Valor objetivo = 11.0\n",
      "Problem solved in 1799.252000 milliseconds\n",
      "Problem solved in 6480299 iterations\n",
      "Problem solved in 76464 branch-and-bound nodes\n"
     ]
    }
   ],
   "source": [
    "G = nx.gnp_random_graph(20, 0.5)\n",
    "coloracao_carvalho(G)"
   ]
  },
  {
   "cell_type": "code",
   "execution_count": 9,
   "metadata": {},
   "outputs": [
    {
     "name": "stdout",
     "output_type": "stream",
     "text": [
      "Resolvendo o problema...\n",
      "Uma solução viável foi encontrada dentro do limite de tempo.\n",
      "Valor objetivo = 13.0\n",
      "Problem solved in 1800.002000 milliseconds\n",
      "Problem solved in 6234761 iterations\n",
      "Problem solved in 34643 branch-and-bound nodes\n"
     ]
    }
   ],
   "source": [
    "G = nx.gnp_random_graph(20, 0.8)\n",
    "coloracao_carvalho(G)   "
   ]
  }
 ],
 "metadata": {
  "kernelspec": {
   "display_name": "base",
   "language": "python",
   "name": "python3"
  },
  "language_info": {
   "codemirror_mode": {
    "name": "ipython",
    "version": 3
   },
   "file_extension": ".py",
   "mimetype": "text/x-python",
   "name": "python",
   "nbconvert_exporter": "python",
   "pygments_lexer": "ipython3",
   "version": "3.11.5"
  }
 },
 "nbformat": 4,
 "nbformat_minor": 2
}
